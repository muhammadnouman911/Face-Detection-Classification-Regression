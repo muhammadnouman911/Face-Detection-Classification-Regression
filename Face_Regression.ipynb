{
  "nbformat": 4,
  "nbformat_minor": 0,
  "metadata": {
    "colab": {
      "provenance": [],
      "authorship_tag": "ABX9TyPhPjhwo0cmQ5lTbBCw6tNL",
      "include_colab_link": true
    },
    "kernelspec": {
      "name": "python3",
      "display_name": "Python 3"
    },
    "language_info": {
      "name": "python"
    }
  },
  "cells": [
    {
      "cell_type": "markdown",
      "metadata": {
        "id": "view-in-github",
        "colab_type": "text"
      },
      "source": [
        "<a href=\"https://colab.research.google.com/github/muhammadnouman911/Face-Detection-Classification-Regression/blob/main/Face_Regression.ipynb\" target=\"_parent\"><img src=\"https://colab.research.google.com/assets/colab-badge.svg\" alt=\"Open In Colab\"/></a>"
      ]
    },
    {
      "cell_type": "code",
      "execution_count": null,
      "metadata": {
        "id": "Qao465v31j7q"
      },
      "outputs": [],
      "source": [
        "!pip install dlib opencv-python\n",
        "\n",
        "import dlib\n",
        "import cv2\n",
        "\n",
        "# Load detector and predictor\n",
        "detector = dlib.get_frontal_face_detector()\n",
        "predictor = dlib.shape_predictor(\"shape_predictor_68_face_landmarks.dat\")\n",
        "# Download from: http://dlib.net/files/shape_predictor_68_face_landmarks.dat.bz2\n",
        "\n",
        "# Load image\n",
        "image = cv2.imread('face.jpg')\n",
        "gray = cv2.cvtColor(image, cv2.COLOR_BGR2GRAY)\n",
        "\n",
        "# Detect faces\n",
        "faces = detector(gray)\n",
        "for face in faces:\n",
        "    landmarks = predictor(gray, face)\n",
        "    for n in range(68):\n",
        "        x = landmarks.part(n).x\n",
        "        y = landmarks.part(n).y\n",
        "        cv2.circle(image, (x, y), 2, (0, 255, 0), -1)\n",
        "\n",
        "cv2.imshow(\"Facial Landmarks\", image)\n",
        "cv2.waitKey(0)\n",
        "cv2.destroyAllWindows()\n"
      ]
    }
  ]
}